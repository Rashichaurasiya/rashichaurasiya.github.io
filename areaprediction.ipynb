{
 "cells": [
  {
   "cell_type": "code",
   "execution_count": null,
   "id": "19f852b5-64eb-4465-9180-18ac463b1c43",
   "metadata": {},
   "outputs": [],
   "source": [
    "import pandas as pd\n",
    "import numpy as np\n",
    "import matplotlib.pyplot as plt\n",
    "from sklearn import linear_model\n",
    "print(\"well done\")\n",
    "\n",
    "df=pd.read_csv(\"C:\\\\Users\\\\DELL\\\\OneDrive\\\\Desktop\\\\Book1.csv\")\n",
    "df\n",
    "\n",
    "plt.xlabel('area(sqrft)')\n",
    "plt.ylabel('price2(US$)')\n",
    "plt.scatter(df.area,df.price2,marker='+',color='blue')\n",
    "#plt.show()\n",
    "\n",
    "x=df[['area']]\n",
    "y=df.price2\n",
    "x\n",
    "y\n",
    "reg=linear_model.LinearRegression()\n",
    "reg.fit(x,y)\n",
    "#reg.predict(3300)\n",
    "from sklearn.linear_model import LinearRegression\n",
    "model=LinearRegression()\n",
    "model.fit(x,y)\n",
    "model.predict([[3000]])\n",
    "model.coef_\n",
    "model.intercept_\n",
    "model.coef_*3000+model.intercept_\n",
    "import warnings\n",
    "warnings.filterwarnings(\"ignore\")\n",
    "my_area=int(input(\"enter  area .....\"))\n",
    "price=model.predict([[my_area]])\n",
    "price\n",
    "a=print(f\"my price of this {my_area} is {price}\")\n",
    "a\n",
    "import math\n",
    "a=print(f\"my price of this {my_area} is {price[0]}\")\n",
    "a\n",
    "import pickle\n",
    "pickle.dump(model,open(\"area.pkl\",\"wb\"))\n",
    "\n"
   ]
  }
 ],
 "metadata": {
  "kernelspec": {
   "display_name": "Python 3 (ipykernel)",
   "language": "python",
   "name": "python3"
  },
  "language_info": {
   "codemirror_mode": {
    "name": "ipython",
    "version": 3
   },
   "file_extension": ".py",
   "mimetype": "text/x-python",
   "name": "python",
   "nbconvert_exporter": "python",
   "pygments_lexer": "ipython3",
   "version": "3.13.5"
  },
  "widgets": {
   "application/vnd.jupyter.widget-state+json": {
    "state": {},
    "version_major": 2,
    "version_minor": 0
   }
  }
 },
 "nbformat": 4,
 "nbformat_minor": 5
}
